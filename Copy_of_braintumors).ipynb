{
  "cells": [
    {
      "cell_type": "code",
      "execution_count": null,
      "metadata": {
        "id": "tbZxCQKIHxzx",
        "colab": {
          "base_uri": "https://localhost:8080/"
        },
        "outputId": "9418a2fa-6f39-4b09-c25f-c57414628d49"
      },
      "outputs": [
        {
          "output_type": "execute_result",
          "data": {
            "text/plain": [
              "[name: \"/device:CPU:0\"\n",
              " device_type: \"CPU\"\n",
              " memory_limit: 268435456\n",
              " locality {\n",
              " }\n",
              " incarnation: 15383191675849091030\n",
              " xla_global_id: -1]"
            ]
          },
          "metadata": {},
          "execution_count": 1
        }
      ],
      "source": [
        "from tensorflow.python.client import device_lib\n",
        "device_lib.list_local_devices()"
      ]
    },
    {
      "cell_type": "code",
      "execution_count": null,
      "metadata": {
        "id": "sD2tH_buDiwU",
        "colab": {
          "base_uri": "https://localhost:8080/"
        },
        "outputId": "9e85ec22-0365-44b6-dae6-82896078618d"
      },
      "outputs": [
        {
          "output_type": "stream",
          "name": "stdout",
          "text": [
            "Mounted at /content/drive\n"
          ]
        }
      ],
      "source": [
        "from google.colab import drive\n",
        "drive.mount('/content/drive')"
      ]
    },
    {
      "cell_type": "code",
      "execution_count": null,
      "metadata": {
        "id": "XIHsEJuO50TA",
        "colab": {
          "base_uri": "https://localhost:8080/"
        },
        "outputId": "cab92453-8063-482c-8eda-3f0878424341"
      },
      "outputs": [
        {
          "output_type": "stream",
          "name": "stdout",
          "text": [
            "/content/drive/MyDrive/idaproject\n"
          ]
        }
      ],
      "source": [
        "cd drive/MyDrive/idaproject"
      ]
    },
    {
      "cell_type": "markdown",
      "source": [
        "BRAIN tumor *segmentation*"
      ],
      "metadata": {
        "id": "uFl4Exp3vr2X"
      }
    },
    {
      "cell_type": "markdown",
      "source": [
        "Multi sclerosids disease"
      ],
      "metadata": {
        "id": "ffAM6wIGv2ZR"
      }
    },
    {
      "cell_type": "code",
      "source": [
        "# Let's load some other packages we need\n",
        "import os\n",
        "import numpy as np\n",
        "import matplotlib.pyplot as plt\n",
        "%matplotlib inline\n",
        "import nibabel as nib # common way of importing nibabel"
      ],
      "metadata": {
        "id": "IFA7JDV7v1cn"
      },
      "execution_count": null,
      "outputs": []
    },
    {
      "cell_type": "code",
      "source": [
        "mri_file = 'smask_ref.nii'\n",
        "img = nib.load(mri_file)\n",
        "mrii_file = 'FLAIR.nii'\n",
        "img1 = nib.load(mrii_file)"
      ],
      "metadata": {
        "id": "1vFO3Ra_wF83"
      },
      "execution_count": null,
      "outputs": []
    },
    {
      "cell_type": "code",
      "source": [
        "print(type(img))"
      ],
      "metadata": {
        "colab": {
          "base_uri": "https://localhost:8080/"
        },
        "id": "I7chmmkywpWF",
        "outputId": "f2469944-cb6e-44bd-a125-a14b01eb6742"
      },
      "execution_count": null,
      "outputs": [
        {
          "output_type": "stream",
          "name": "stdout",
          "text": [
            "<class 'nibabel.nifti1.Nifti1Image'>\n"
          ]
        }
      ]
    },
    {
      "cell_type": "code",
      "source": [
        "print(img.shape)"
      ],
      "metadata": {
        "colab": {
          "base_uri": "https://localhost:8080/"
        },
        "id": "d-rKeOIUwuDg",
        "outputId": "153e635c-92b7-41bb-e592-5c357f31c193"
      },
      "execution_count": null,
      "outputs": [
        {
          "output_type": "stream",
          "name": "stdout",
          "text": [
            "(181, 217, 181)\n"
          ]
        }
      ]
    },
    {
      "cell_type": "code",
      "source": [
        "img_data = img.get_fdata()\n",
        "print(type(img_data))  # it's a numpy array!\n",
        "print(img_data.shape)\n",
        "img1_data = img.get_fdata()\n",
        "print(img1_data.shape)\n"
      ],
      "metadata": {
        "colab": {
          "base_uri": "https://localhost:8080/"
        },
        "id": "qzZqVRQtw9oU",
        "outputId": "020aad7d-8a57-4898-cc44-125e67c526e8"
      },
      "execution_count": null,
      "outputs": [
        {
          "output_type": "stream",
          "name": "stdout",
          "text": [
            "<class 'numpy.memmap'>\n",
            "(181, 217, 181)\n",
            "(181, 217, 181)\n"
          ]
        }
      ]
    },
    {
      "cell_type": "code",
      "source": [
        "mid_slice_x = img_data[: ,:, 90]\n",
        "print(mid_slice_x.shape)"
      ],
      "metadata": {
        "colab": {
          "base_uri": "https://localhost:8080/"
        },
        "id": "ooJqz4afx0kw",
        "outputId": "df519206-f680-4c12-c127-00bd13146c1e"
      },
      "execution_count": null,
      "outputs": [
        {
          "output_type": "stream",
          "name": "stdout",
          "text": [
            "(181, 217)\n"
          ]
        }
      ]
    },
    {
      "cell_type": "code",
      "source": [
        "# Note that the transpose the slice (using the .T attribute).\n",
        "# This is because imshow plots the first dimension on the y-axis and the\n",
        "# second on the x-axis, but we'd like to plot the first on the x-axis and the\n",
        "# second on the y-axis. Also, the origin to \"lower\", as the data was saved in\n",
        "# \"cartesian\" coordinates.\n",
        "#plt.imshow(mid_slice_x.T, cmap='gray', origin='lower')\n",
        "#plt.xlabel('First axis')\n",
        "#plt.ylabel('Second axis')\n",
        "#plt.colorbar(label='Signal intensity')\n",
        "#plt.show()\n",
        "#plt.imsave('smask_ref90.jpg', mid_slice_x.T, cmap= 'gray', origin='lower')\n",
        "gm_array=img1_data[img_data==2]\n",
        "#gm_array = np.where(img_data==2.0)\n",
        "#thr_img=(img_data>3)\n",
        "#print('thr_img', thr_img)\n",
        "print('gm_array', gm_array)\n",
        "#plt.imshow(thresh_img, cmap='gray')"
      ],
      "metadata": {
        "colab": {
          "base_uri": "https://localhost:8080/"
        },
        "id": "xImt_5lCzJBw",
        "outputId": "24aaeb93-1692-4eab-8830-4e7cfa5f26ea"
      },
      "execution_count": null,
      "outputs": [
        {
          "output_type": "stream",
          "name": "stdout",
          "text": [
            "gm_array [2. 2. 2. ... 2. 2. 2.]\n"
          ]
        }
      ]
    },
    {
      "cell_type": "code",
      "execution_count": null,
      "metadata": {
        "colab": {
          "base_uri": "https://localhost:8080/",
          "height": 282
        },
        "outputId": "0ea715f0-31e2-4853-db67-7d6bcd222dc8",
        "id": "Y-H76jSdRPz0"
      },
      "outputs": [
        {
          "output_type": "stream",
          "name": "stdout",
          "text": [
            "[     0      0 755654]\n"
          ]
        },
        {
          "output_type": "display_data",
          "data": {
            "text/plain": [
              "<Figure size 432x288 with 1 Axes>"
            ],
            "image/png": "[encoded data removed]"
          },
          "metadata": {
            "needs_background": "light"
          }
        }
      ],
      "source": [
        "import numpy as np\n",
        "import skimage.color\n",
        "import skimage.io\n",
        "import matplotlib.pyplot as plt\n",
        "import cv2\n",
        "\n",
        "from skimage import color\n",
        "from skimage import io\n",
        "#img = color.rgb2gray(io.imread('smask_ref90.jpg'))\n",
        "hist, bin_edges = np.histogram(gm_array, bins=[0, 1,2,3])\n",
        "print(hist)\n",
        "import matplotlib.pyplot as plt\n",
        "plt.bar(bin_edges[:-1], hist, width = 1)\n",
        "plt.xlim(min(bin_edges), max(bin_edges))\n",
        "plt.show() \n",
        "#ret, binary_mask = cv2.threshold(img1, 0.8, 255, cv2.THRESH_BINARY)\n",
        "#fig, ax = plt.subplots()\n",
        "#plt.imshow(binary_mask, cmap=\"gray\")\n",
        "#plt.show()\n",
        "#plt.imsave('binarysmask_ref90.jpg', binary_mask, cmap='gray')"
      ]
    },
    {
      "cell_type": "code",
      "source": [
        "import cv2\n",
        "import matplotlib.pyplot as plt\n",
        "import skimage.io\n",
        "img = skimage.io.imread('FLAIR90.jpg', as_gray=True)\n",
        "binary_mask =skimage.io. imread('binarysmask_ref90.jpg', as_gray=True)\n",
        "final_FLAIR = binary_mask*img\n",
        "plt.imshow(final_FLAIR, cmap='gray')\n",
        "plt.imsave('finalFLAIR_ref90.jpg', final_FLAIR, cmap='gray')\n"
      ],
      "metadata": {
        "colab": {
          "base_uri": "https://localhost:8080/",
          "height": 269
        },
        "id": "9cMG_OWv5gqk",
        "outputId": "c4acab20-d8bd-41e2-844e-525a942f3039"
      },
      "execution_count": null,
      "outputs": [
        {
          "output_type": "display_data",
          "data": {
            "text/plain": [
              "<Figure size 432x288 with 1 Axes>"
            ],
            "image/png": "[encoded data removed]"
          },
          "metadata": {
            "needs_background": "light"
          }
        }
      ]
    },
    {
      "cell_type": "code",
      "execution_count": null,
      "metadata": {
        "colab": {
          "base_uri": "https://localhost:8080/",
          "height": 1000
        },
        "outputId": "86414c59-3fd2-48e8-a66d-890adb2da2f9",
        "id": "L2HwiH7O_7Da"
      },
      "outputs": [
        {
          "output_type": "stream",
          "name": "stdout",
          "text": [
            "y [  0.   1.   0.   1.   0.   0.   2.   0.   2.   0.   0.   0.   0.   0.\n",
            "   0.   2.   1.   0.   2.   0.   2.   2.   0.   1.   0.   1.   1.   2.\n",
            "   0.   0.   2.   3.   2.   1.   0.   0.   5.   1.   1.   0.   1.   2.\n",
            "   2.   3.   0.   3.   1.   2.   4.   0.   4.   5.   1.   3.   0.   2.\n",
            "   5.   4.   2.   0.   5.   5.   2.   0.   7.   4.   4.   3.   0.  10.\n",
            "   7.   7.   6.   0.  11.  10.   8.  14.   0.  13.  14.  15.  27.   0.\n",
            "  25.  21.  40.  27.   0.  37.  35.  47.  34.   0.  62.  40.  76.  81.\n",
            "   0.  93.  68. 115. 105.   0.  95. 110. 148. 132.   0. 158. 160. 175.\n",
            " 173.   0. 200. 193. 200. 214.   0. 201. 197. 186. 207.   0. 183. 225.\n",
            " 196. 169.   0. 170. 164. 136.   0. 151. 138. 120. 100.   0. 105. 110.\n",
            "  91. 108.   0.  95.  89.  54.  68.   0.  71.  65.  62.  54.   0.  46.\n",
            "  49.  39.  31.   0.  31.  28.  29.  25.   0.  16.  17.  17.  19.   0.\n",
            "  21.  12.  15.  14.   0.  16.  10.  17.  12.   0.  14.  12.   8.  15.\n",
            "   0.  12.   7.  10.  11.   0.   9.   7.   8.   0.   9.  11.   5.   4.\n",
            "   0.   8.   6.   4.   4.   0.   5.   2.   7.   2.   0.   1.   4.   3.\n",
            "   3.   0.   2.   4.   4.   1.   0.   2.   1.   3.   3.   0.   0.   4.\n",
            "   6.   1.   0.   3.   1.   5.   2.   0.   0.   0.   3.   2.   0.   1.\n",
            "   0.   0.   0.   0.   0.   2.   2.   1.   0.   0.   1.   0.   1.   0.\n",
            "   0.   0.   0.   4.]\n",
            "x [0.2      0.203125 0.20625  0.209375 0.2125   0.215625 0.21875  0.221875\n",
            " 0.225    0.228125 0.23125  0.234375 0.2375   0.240625 0.24375  0.246875\n",
            " 0.25     0.253125 0.25625  0.259375 0.2625   0.265625 0.26875  0.271875\n",
            " 0.275    0.278125 0.28125  0.284375 0.2875   0.290625 0.29375  0.296875\n",
            " 0.3      0.303125 0.30625  0.309375 0.3125   0.315625 0.31875  0.321875\n",
            " 0.325    0.328125 0.33125  0.334375 0.3375   0.340625 0.34375  0.346875\n",
            " 0.35     0.353125 0.35625  0.359375 0.3625   0.365625 0.36875  0.371875\n",
            " 0.375    0.378125 0.38125  0.384375 0.3875   0.390625 0.39375  0.396875\n",
            " 0.4      0.403125 0.40625  0.409375 0.4125   0.415625 0.41875  0.421875\n",
            " 0.425    0.428125 0.43125  0.434375 0.4375   0.440625 0.44375  0.446875\n",
            " 0.45     0.453125 0.45625  0.459375 0.4625   0.465625 0.46875  0.471875\n",
            " 0.475    0.478125 0.48125  0.484375 0.4875   0.490625 0.49375  0.496875\n",
            " 0.5      0.503125 0.50625  0.509375 0.5125   0.515625 0.51875  0.521875\n",
            " 0.525    0.528125 0.53125  0.534375 0.5375   0.540625 0.54375  0.546875\n",
            " 0.55     0.553125 0.55625  0.559375 0.5625   0.565625 0.56875  0.571875\n",
            " 0.575    0.578125 0.58125  0.584375 0.5875   0.590625 0.59375  0.596875\n",
            " 0.6      0.603125 0.60625  0.609375 0.6125   0.615625 0.61875  0.621875\n",
            " 0.625    0.628125 0.63125  0.634375 0.6375   0.640625 0.64375  0.646875\n",
            " 0.65     0.653125 0.65625  0.659375 0.6625   0.665625 0.66875  0.671875\n",
            " 0.675    0.678125 0.68125  0.684375 0.6875   0.690625 0.69375  0.696875\n",
            " 0.7      0.703125 0.70625  0.709375 0.7125   0.715625 0.71875  0.721875\n",
            " 0.725    0.728125 0.73125  0.734375 0.7375   0.740625 0.74375  0.746875\n",
            " 0.75     0.753125 0.75625  0.759375 0.7625   0.765625 0.76875  0.771875\n",
            " 0.775    0.778125 0.78125  0.784375 0.7875   0.790625 0.79375  0.796875\n",
            " 0.8      0.803125 0.80625  0.809375 0.8125   0.815625 0.81875  0.821875\n",
            " 0.825    0.828125 0.83125  0.834375 0.8375   0.840625 0.84375  0.846875\n",
            " 0.85     0.853125 0.85625  0.859375 0.8625   0.865625 0.86875  0.871875\n",
            " 0.875    0.878125 0.88125  0.884375 0.8875   0.890625 0.89375  0.896875\n",
            " 0.9      0.903125 0.90625  0.909375 0.9125   0.915625 0.91875  0.921875\n",
            " 0.925    0.928125 0.93125  0.934375 0.9375   0.940625 0.94375  0.946875\n",
            " 0.95     0.953125 0.95625  0.959375 0.9625   0.965625 0.96875  0.971875\n",
            " 0.975    0.978125 0.98125  0.984375 0.9875   0.990625 0.99375  0.996875\n",
            " 1.      ]\n",
            "Average of the list = 0.6\n",
            "max_y 225.0\n",
            "min_x 101\n",
            "max_x 135\n",
            "fwhm 0.13333333333333333\n",
            "p Rectangle(xy=(0.23125, 0), width=0.003125, height=0, angle=0)\n",
            "p Rectangle(xy=(0.23125, 0), width=0.003125, height=0, angle=0)\n",
            "heights [0.0, 1.0, 0.0, 1.0, 0.0, 0.0, 2.0, 0.0, 2.0, 0.0, 0.0, 0.0, 0.0, 0.0, 0.0, 2.0, 1.0, 0.0, 2.0, 0.0, 2.0, 2.0, 0.0, 1.0, 0.0, 1.0, 1.0, 2.0, 0.0, 0.0, 2.0, 3.0, 2.0, 1.0, 0.0, 0.0, 5.0, 1.0, 1.0, 0.0, 1.0, 2.0, 2.0, 3.0, 0.0, 3.0, 1.0, 2.0, 4.0, 0.0, 4.0, 5.0, 1.0, 3.0, 0.0, 2.0, 5.0, 4.0, 2.0, 0.0, 5.0, 5.0, 2.0, 0.0, 7.0, 4.0, 4.0, 3.0, 0.0, 10.0, 7.0, 7.0, 6.0, 0.0, 11.0, 10.0, 8.0, 14.0, 0.0, 13.0, 14.0, 15.0, 27.0, 0.0, 25.0, 21.0, 40.0, 27.0, 0.0, 37.0, 35.0, 47.0, 34.0, 0.0, 62.0, 40.0, 76.0, 81.0, 0.0, 93.0, 68.0, 115.0, 105.0, 0.0, 95.0, 110.0, 148.0, 132.0, 0.0, 158.0, 160.0, 175.0, 173.0, 0.0, 200.0, 193.0, 200.0, 214.0, 0.0, 201.0, 197.0, 186.0, 207.0, 0.0, 183.0, 225.0, 196.0, 169.0, 0.0, 170.0, 164.0, 136.0, 0.0, 151.0, 138.0, 120.0, 100.0, 0.0, 105.0, 110.0, 91.0, 108.0, 0.0, 95.0, 89.0, 54.0, 68.0, 0.0, 71.0, 65.0, 62.0, 54.0, 0.0, 46.0, 49.0, 39.0, 31.0, 0.0, 31.0, 28.0, 29.0, 25.0, 0.0, 16.0, 17.0, 17.0, 19.0, 0.0, 21.0, 12.0, 15.0, 14.0, 0.0, 16.0, 10.0, 17.0, 12.0, 0.0, 14.0, 12.0, 8.0, 15.0, 0.0, 12.0, 7.0, 10.0, 11.0, 0.0, 9.0, 7.0, 8.0, 0.0, 9.0, 11.0, 5.0, 4.0, 0.0, 8.0, 6.0, 4.0, 4.0, 0.0, 5.0, 2.0, 7.0, 2.0, 0.0, 1.0, 4.0, 3.0, 3.0, 0.0, 2.0, 4.0, 4.0, 1.0, 0.0, 2.0, 1.0, 3.0, 3.0, 0.0, 0.0, 4.0, 6.0, 1.0, 0.0, 3.0, 1.0, 5.0, 2.0, 0.0, 0.0, 0.0, 3.0, 2.0, 0.0, 1.0, 0.0, 0.0, 0.0, 0.0, 0.0, 2.0, 2.0, 1.0, 0.0, 0.0, 1.0, 0.0, 1.0, 0.0, 0.0, 0.0, 0.0, 4.0]\n",
            "half_max 112.5\n"
          ]
        },
        {
          "output_type": "display_data",
          "data": {
            "text/plain": [
              "<Figure size 432x288 with 1 Axes>"
            ],
            "image/png": "[encoded data removed]"
          },
          "metadata": {
            "needs_background": "light"
          }
        },
        {
          "output_type": "stream",
          "name": "stdout",
          "text": [
            "thresh 0.6680851063829787\n"
          ]
        },
        {
          "output_type": "display_data",
          "data": {
            "text/plain": [
              "<Figure size 432x288 with 1 Axes>"
            ],
            "image/png": "[encoded data removed]"
          },
          "metadata": {
            "needs_background": "light"
          }
        }
      ],
      "source": [
        "import numpy as np\n",
        "import skimage.color\n",
        "import skimage.io\n",
        "import matplotlib.pyplot as plt\n",
        "import cv2\n",
        "from skimage import color\n",
        "from skimage import io\n",
        "from scipy.interpolate import splrep, sproot, splev\n",
        "from matplotlib import pyplot as mp\n",
        "import numpy as np\n",
        "\n",
        "img = color.rgb2gray(io.imread('finalFLAIR_ref90.jpg'))\n",
        "(y, x, patches) = plt.hist(img.ravel(), bins=256, range=(0.2, 1))\n",
        "print (\"y\" , y)\n",
        "print (\"x\", x)\n",
        "half_max = max(y) / 2.\n",
        "######################\n",
        "########find mean value of x\n",
        "def Average(x):\n",
        "    return sum(x) / len(x)\n",
        "  \n",
        "# Driver Code\n",
        "average = Average(x)\n",
        "  \n",
        "# Printing average of the list\n",
        "print(\"Average of the list =\", round(average, 2))\n",
        "####################calculation of fwhm\n",
        "max_y = max(y)  # Find the maximum y value\n",
        "print (\"max_y\", max_y)\n",
        "max_y = max(y)  # Find the maximum y value\n",
        "xs = [x for x in range(256) if y[x] > max_y/2.0]\n",
        "min_x = min(xs) # Print the points at half-maximum\n",
        "print(\"min_x\", min_x)\n",
        "max_x = max(xs)\n",
        "print(\"max_x\", max_x)\n",
        "fwhm = (max_x - min_x)/255.0\n",
        "print(\"fwhm\", fwhm)\n",
        "#######################\n",
        "#def lin_interp(x, y, i, half):\n",
        "    #return x[i] + (x[i+1] - x[i]) * ((half - y[i]) / (y[i+1] - y[i]))\n",
        "\n",
        "#def half_max_x(x, y):\n",
        "    #half = max(y)/2.0\n",
        "    #signs = np.sign(np.add(y, -half))\n",
        "    #zero_crossings = (signs[0:-2] != signs[1:-1])\n",
        "    #zero_crossings_i = np.where(zero_crossings)[0]\n",
        "    #return [lin_interp(x, y, zero_crossings_i[0], half),\n",
        "            #lin_interp(x, y, zero_crossings_i[1], half)]\n",
        "#hmx = half_max_x(x,y)\n",
        "#fwhm = hmx[1] - hmx[0]\n",
        "#print(\"fwhm\", fwhm)\n",
        "\n",
        "#plt.show()\n",
        "ax = plt.gca()\n",
        "print\n",
        "p = ax.patches\n",
        "p[10].get_xy()\n",
        "print(\"p\", p[10])\n",
        "p[10].get_height()\n",
        "print(\"p\", p[10])\n",
        "y = [patch.get_height() for patch in p]\n",
        "print(\"heights\", y)\n",
        "half_max = max(y)/2.0\n",
        "print(\"half_max\", half_max)\n",
        "\n",
        "\n",
        "\n",
        "\n",
        "\n",
        "\n",
        "import cv2\n",
        "#ret, binary_mask = cv2.threshold(img, 0.7, 255, cv2.THRESH_BINARY)\n",
        "#fig, ax = plt.subplots()\n",
        "#plt.imshow(binary_mask, cmap=\"gray\")\n",
        "plt.show()\n",
        "#plt.imsave('lesionmask_ref90.jpg', binary_mask, cmap='gray')\n",
        "import numpy as np\n",
        "import scipy.optimize as opt\n",
        "\n",
        "import numpy as np\n",
        "import scipy.optimize as opt\n",
        "\n",
        "\n",
        "c = 1.2\n",
        "standard_deviation = fwhm/2.35\n",
        "thresh = average + c*standard_deviation\n",
        "print (\"thresh\",thresh)\n",
        "ret , binary_mask = cv2.threshold(img, thresh, 255, cv2.THRESH_BINARY)\n",
        "plt.imshow(binary_mask, cmap=\"gray\")\n",
        "plt.imsave('lesionmask_ref90.jpg', binary_mask, cmap='gray')"
      ]
    },
    {
      "cell_type": "code",
      "source": [
        "import numpy as np\n",
        "from scipy.interpolate import UnivariateSpline\n",
        "\n",
        "def make_norm_dist(x, mean, sd):\n",
        "    return 1.0/(sd*np.sqrt(2*np.pi))*np.exp(-(x - mean)**2/(2*sd**2))\n",
        "\n",
        "x = np.linspace(0.2, 1, 1000)\n",
        "blue = make_norm_dist(x, 0.56, 0.1)\n",
        "#pink = make_norm_dist(x, 60, 10)\n",
        "\n",
        "#blue = green + pink   \n",
        "\n",
        "# create a spline of x and blue-np.max(blue)/2 \n",
        "spline = UnivariateSpline(x, blue-np.max(blue)/2, s=0)\n",
        "r1, r2 = spline.roots() # find the roots\n",
        "\n",
        "import pylab as pl\n",
        "pl.plot(x, blue)\n",
        "pl.axvspan(r1, r2, facecolor='g', alpha=0.5)\n",
        "pl.show()"
      ],
      "metadata": {
        "colab": {
          "base_uri": "https://localhost:8080/",
          "height": 265
        },
        "id": "xbSofXLTBtDs",
        "outputId": "77d41246-e47f-437c-adc0-9eb8ceb57a09"
      },
      "execution_count": null,
      "outputs": [
        {
          "output_type": "display_data",
          "data": {
            "text/plain": [
              "<Figure size 432x288 with 1 Axes>"
            ],
            "image/png": "[encoded data removed]"
          },
          "metadata": {
            "needs_background": "light"
          }
        }
      ]
    },
    {
      "cell_type": "code",
      "source": [
        "import cv2\n",
        "import numpy as np\n",
        "from matplotlib import pyplot as plt\n",
        "\n",
        "img = cv2.imread('lesionmask_ref90.jpg')\n",
        "median = cv2.medianBlur(img,3)\n",
        "\n",
        "plt.subplot(121),plt.imshow(img),plt.title('Original')\n",
        "plt.xticks([]), plt.yticks([])\n",
        "plt.subplot(122),plt.imshow(median),plt.title('Blurred')\n",
        "plt.xticks([]), plt.yticks([])\n",
        "plt.show()\n",
        "plt.imsave('median3onlesion.jpg', median, cmap='gray')"
      ],
      "metadata": {
        "colab": {
          "base_uri": "https://localhost:8080/",
          "height": 233
        },
        "id": "qu0hzrtQA2TY",
        "outputId": "ff7e11af-f4ca-4dda-d04b-2fb5af9a0667"
      },
      "execution_count": null,
      "outputs": [
        {
          "output_type": "display_data",
          "data": {
            "text/plain": [
              "<Figure size 432x288 with 2 Axes>"
            ],
            "image/png": "[encoded data removed]"
          },
          "metadata": {}
        }
      ]
    }
  ],
  "metadata": {
    "colab": {
      "name": "Copy of braintumors).ipynb",
      "provenance": [],
      "collapsed_sections": []
    },
    "kernelspec": {
      "display_name": "Python 3",
      "name": "python3"
    },
    "language_info": {
      "name": "python"
    }
  },
  "nbformat": 4,
  "nbformat_minor": 0
}